{
  "nbformat": 4,
  "nbformat_minor": 0,
  "metadata": {
    "colab": {
      "provenance": [],
      "authorship_tag": "ABX9TyMT3BHH2fiLCvrot4d8ioDY",
      "include_colab_link": true
    },
    "kernelspec": {
      "name": "python3",
      "display_name": "Python 3"
    },
    "language_info": {
      "name": "python"
    }
  },
  "cells": [
    {
      "cell_type": "markdown",
      "metadata": {
        "id": "view-in-github",
        "colab_type": "text"
      },
      "source": [
        "<a href=\"https://colab.research.google.com/github/Tanbin23/Tanbin23/blob/main/AI_lab_3.ipynb\" target=\"_parent\"><img src=\"https://colab.research.google.com/assets/colab-badge.svg\" alt=\"Open In Colab\"/></a>"
      ]
    },
    {
      "cell_type": "markdown",
      "source": [
        "Write a Python program to reverse a tuple."
      ],
      "metadata": {
        "id": "TxDj02sKtUDx"
      }
    },
    {
      "cell_type": "code",
      "execution_count": 6,
      "metadata": {
        "colab": {
          "base_uri": "https://localhost:8080/"
        },
        "id": "a0CNuAuFsY8e",
        "outputId": "4ba9ebde-998e-45fa-ebcf-aec08313d6d2"
      },
      "outputs": [
        {
          "output_type": "stream",
          "name": "stdout",
          "text": [
            "Enter the numbers(): 2,3,5,6,9,10\n",
            "Reversed Tuple: ('10', '9', '6', '5', '3', '2')\n"
          ]
        }
      ],
      "source": [
        "number= input(\"Enter the numbers(): \")\n",
        "first_tuple = tuple(number.split(\",\"))\n",
        "reversed_tuple = first_tuple[::-1]\n",
        "print(\"Reversed Tuple:\", reversed_tuple)"
      ]
    },
    {
      "cell_type": "markdown",
      "source": [
        " Write a python program to swap two tuples in Python.\n"
      ],
      "metadata": {
        "id": "1Nxxg7q4tV8p"
      }
    },
    {
      "cell_type": "code",
      "source": [
        "number_t1 = input(\"Enter the numbers: \")\n",
        "tuple1 = tuple(number_t1.split(\",\"))\n",
        "number_t2 = input(\"Enter the numbers: \")\n",
        "tuple2 = tuple(number_t2.split(\",\"))\n",
        "print(\" Tuple 1:\", tuple1)\n",
        "print(\" Tuple 2:\", tuple2)\n",
        "tuple1, tuple2 = tuple2, tuple1\n",
        "print(\"Swapped Tuple 1:\", tuple1)\n",
        "print(\"Swapped Tuple 2:\", tuple2)"
      ],
      "metadata": {
        "id": "9xb9Lhmix6Ft",
        "colab": {
          "base_uri": "https://localhost:8080/"
        },
        "outputId": "9a7fd6ee-2413-4aed-be5c-4dbcc5f5607a"
      },
      "execution_count": 8,
      "outputs": [
        {
          "output_type": "stream",
          "name": "stdout",
          "text": [
            "Enter the numbers: 2,3,4,5,6\n",
            "Enter the numbers: 8,9,6,47,5\n",
            " Tuple 1: ('2', '3', '4', '5', '6')\n",
            " Tuple 2: ('8', '9', '6', '47', '5')\n",
            "Swapped Tuple 1: ('8', '9', '6', '47', '5')\n",
            "Swapped Tuple 2: ('2', '3', '4', '5', '6')\n"
          ]
        }
      ]
    },
    {
      "cell_type": "markdown",
      "source": [
        "Write a Python program to get the 4th element from the beginning and the 4th element   from the last of a tuple.\n"
      ],
      "metadata": {
        "id": "s6dtkStdx_rG"
      }
    },
    {
      "cell_type": "code",
      "source": [
        "def numbers_of_tuple(tuple):\n",
        "    fourth_from_beginning = tuple[3]\n",
        "    fourth_from_end = tuple[-4]\n",
        "    return fourth_from_beginning, fourth_from_end\n",
        "elements = input(\"Enter the numbers: \")\n",
        "tuple = tuple(elements.split(\",\"))\n",
        "result = numbers_of_tuple(tuple)\n",
        "print(\"4th Element from the Beginning:\", result[0])\n",
        "print(\"4th Element from the End:\", result[1])"
      ],
      "metadata": {
        "id": "uVrNCNq1yEam",
        "colab": {
          "base_uri": "https://localhost:8080/"
        },
        "outputId": "48520f5a-7be6-421d-872a-0d1db6680b60"
      },
      "execution_count": 13,
      "outputs": [
        {
          "output_type": "stream",
          "name": "stdout",
          "text": [
            "Enter the numbers: 1,2,3,4,5,6,7,8,9,10,11,12,13\n",
            "4th Element from the Beginning: 4\n",
            "4th Element from the End: 10\n"
          ]
        }
      ]
    },
    {
      "cell_type": "markdown",
      "source": [
        "Write a Python Program to Count Even and Odd Numbers in a list."
      ],
      "metadata": {
        "id": "j13SNWxxyM5a"
      }
    },
    {
      "cell_type": "code",
      "source": [
        "def count_even_odd(numbers):\n",
        "    even_count = sum(1 for num in numbers if num % 2 == 0)\n",
        "    odd_count = sum(1 for num in numbers if num % 2 != 0)\n",
        "    return even_count, odd_count\n",
        "numbers = input(\"Enter the numbers : \")\n",
        "numbers_list = [int(num) for num in numbers.split(\",\")]\n",
        "result = count_even_odd(numbers_list)\n",
        "print(\"Even Count:\", result[0])\n",
        "print(\"Odd Count:\", result[1])\n"
      ],
      "metadata": {
        "id": "0UIFjx9-yPpE",
        "colab": {
          "base_uri": "https://localhost:8080/"
        },
        "outputId": "e0cdb943-adeb-460a-a740-31e5a832e05b"
      },
      "execution_count": 14,
      "outputs": [
        {
          "output_type": "stream",
          "name": "stdout",
          "text": [
            "Enter the numbers : 1,2,3,4,5,6,7,8,9,10\n",
            "Even Count: 5\n",
            "Odd Count: 5\n"
          ]
        }
      ]
    }
  ]
}